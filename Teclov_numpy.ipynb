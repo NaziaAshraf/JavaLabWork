{
  "cells": [
    {
      "cell_type": "markdown",
      "metadata": {
        "id": "view-in-github",
        "colab_type": "text"
      },
      "source": [
        "<a href=\"https://colab.research.google.com/github/NaziaAshraf/JavaLabWork/blob/main/Teclov_numpy.ipynb\" target=\"_parent\"><img src=\"https://colab.research.google.com/assets/colab-badge.svg\" alt=\"Open In Colab\"/></a>"
      ]
    },
    {
      "cell_type": "markdown",
      "metadata": {
        "id": "BFSagHa2l5JU"
      },
      "source": [
        "# Numpy Basics"
      ]
    },
    {
      "cell_type": "markdown",
      "metadata": {
        "id": "j11MfsNYl5JY"
      },
      "source": [
        "Welcome to section of Numpy and Pandas. This is the most used Python libraries for data science. NumPy consists of a powerful data structure called multidimensional arrays. Pandas is another powerful Python library that provides fast and easy data analysis platform.\n",
        "\n",
        "NumPy is a library written for scientific computing and data analysis. It stands for numerical python and also known as array oriented computing.\n",
        "\n",
        "The most basic object in NumPy is the ndarray, or simply an array which is an n-dimensional, homogeneous array. By homogenous, we mean that all the elements in a NumPy array have to be of the same data type, which is commonly numeric (float or integer).\n",
        "\n",
        "\n",
        " # Why Numpy?\n",
        " convenience & speed\n",
        "\n",
        " Numpy is much faster than the standard python ways to do computations.\n",
        "\n",
        "Vectorised code typically does not contain explicit looping and indexing etc. (all of this happens behind the scenes, in precompiled C-code), and thus it is much more concise.\n",
        "\n",
        "Also, many Numpy operations are implemented in C which is basically being executed behind the scenes, avoiding the general cost of loops in Python, pointer indirection and per-element dynamic type checking. The speed boost depends on which operations you're performing.\n",
        "\n",
        " NumPy arrays are more compact than lists, i.e. they take much lesser storage space than lists"
      ]
    },
    {
      "cell_type": "code",
      "execution_count": null,
      "metadata": {
        "id": "BcK11rzwl5JZ"
      },
      "outputs": [],
      "source": []
    },
    {
      "cell_type": "code",
      "execution_count": 1,
      "metadata": {
        "id": "nyiucC2kl5Ja"
      },
      "outputs": [],
      "source": [
        "import numpy"
      ]
    },
    {
      "cell_type": "code",
      "execution_count": 2,
      "metadata": {
        "id": "GLDI4srjl5Jb",
        "outputId": "dacfd375-2798-4c36-f0a2-bf049b1ab859",
        "colab": {
          "base_uri": "https://localhost:8080/"
        }
      },
      "outputs": [
        {
          "output_type": "execute_result",
          "data": {
            "text/plain": [
              "array([1, 2, 3])"
            ]
          },
          "metadata": {},
          "execution_count": 2
        }
      ],
      "source": [
        "numpy.array([1,2,3])"
      ]
    },
    {
      "cell_type": "code",
      "execution_count": 3,
      "metadata": {
        "id": "VacHb_B5l5Jc"
      },
      "outputs": [],
      "source": [
        "import numpy as np"
      ]
    },
    {
      "cell_type": "code",
      "execution_count": 4,
      "metadata": {
        "id": "EM9vnL-Vl5Jd"
      },
      "outputs": [],
      "source": [
        "a = np.array([1,2,3])"
      ]
    },
    {
      "cell_type": "code",
      "execution_count": 5,
      "metadata": {
        "id": "39ZOSgLAl5Je",
        "outputId": "fc877f6b-5df8-4c33-bf32-2950712e1479",
        "colab": {
          "base_uri": "https://localhost:8080/"
        }
      },
      "outputs": [
        {
          "output_type": "execute_result",
          "data": {
            "text/plain": [
              "array([1, 2, 3])"
            ]
          },
          "metadata": {},
          "execution_count": 5
        }
      ],
      "source": [
        "a"
      ]
    },
    {
      "cell_type": "code",
      "execution_count": null,
      "metadata": {
        "id": "PWVqa-8Sl5Je"
      },
      "outputs": [],
      "source": [
        "b = np.array([[1,2,3],[4,5,6]])"
      ]
    },
    {
      "cell_type": "code",
      "execution_count": null,
      "metadata": {
        "id": "kBAALkqYl5Jf",
        "outputId": "22d29acd-628f-4c21-ee16-98f2905f67d9"
      },
      "outputs": [
        {
          "data": {
            "text/plain": [
              "array([[1, 2, 3],\n",
              "       [4, 5, 6]])"
            ]
          },
          "execution_count": 13,
          "metadata": {},
          "output_type": "execute_result"
        }
      ],
      "source": [
        "b"
      ]
    },
    {
      "cell_type": "code",
      "execution_count": null,
      "metadata": {
        "colab": {
          "base_uri": "https://localhost:8080/"
        },
        "id": "dIXnehrml5Jf",
        "outputId": "fea9e871-77fc-46d4-edac-bd66622a1130"
      },
      "outputs": [
        {
          "output_type": "execute_result",
          "data": {
            "text/plain": [
              "(2, 3)"
            ]
          },
          "metadata": {},
          "execution_count": 3
        }
      ],
      "source": [
        "b.shape"
      ]
    },
    {
      "cell_type": "code",
      "execution_count": null,
      "metadata": {
        "colab": {
          "base_uri": "https://localhost:8080/"
        },
        "id": "dzGI5rOJl5Jg",
        "outputId": "56930a00-294a-4b9d-c46c-0b9802793c8c"
      },
      "outputs": [
        {
          "output_type": "execute_result",
          "data": {
            "text/plain": [
              "(3,)"
            ]
          },
          "metadata": {},
          "execution_count": 6
        }
      ],
      "source": [
        "a.shape"
      ]
    },
    {
      "cell_type": "code",
      "execution_count": null,
      "metadata": {
        "colab": {
          "base_uri": "https://localhost:8080/"
        },
        "id": "3y3sm2oel5Jg",
        "outputId": "df01475a-db2b-4dba-c503-923d32fd2cf4"
      },
      "outputs": [
        {
          "output_type": "execute_result",
          "data": {
            "text/plain": [
              "dtype('int64')"
            ]
          },
          "metadata": {},
          "execution_count": 7
        }
      ],
      "source": [
        "b.dtype"
      ]
    },
    {
      "cell_type": "code",
      "execution_count": null,
      "metadata": {
        "colab": {
          "base_uri": "https://localhost:8080/"
        },
        "id": "jvrRbE1Vl5Jg",
        "outputId": "54ea58b3-ea7c-4fc3-98d8-eada7d2f7118"
      },
      "outputs": [
        {
          "output_type": "execute_result",
          "data": {
            "text/plain": [
              "2"
            ]
          },
          "metadata": {},
          "execution_count": 8
        }
      ],
      "source": [
        "b.ndim"
      ]
    },
    {
      "cell_type": "code",
      "execution_count": null,
      "metadata": {
        "id": "zv_WoGL0l5Jh",
        "outputId": "4c40e3fe-1329-4983-c136-9284c1c6a40d"
      },
      "outputs": [
        {
          "name": "stdout",
          "output_type": "stream",
          "text": [
            "<class 'numpy.ndarray'>\n"
          ]
        }
      ],
      "source": [
        "print(type(a))"
      ]
    },
    {
      "cell_type": "code",
      "execution_count": null,
      "metadata": {
        "id": "5iZ2TkZCl5Jh",
        "outputId": "b0085b8f-d653-409b-bf87-9fe1dcc135f7"
      },
      "outputs": [
        {
          "name": "stdout",
          "output_type": "stream",
          "text": [
            "<class 'numpy.ndarray'>\n"
          ]
        }
      ],
      "source": [
        "print(type(b))"
      ]
    },
    {
      "cell_type": "code",
      "execution_count": null,
      "metadata": {
        "id": "AEZtss2Ol5Jh",
        "outputId": "a614c2b4-7bb1-435d-b65f-b2067cbd1d00"
      },
      "outputs": [
        {
          "data": {
            "text/plain": [
              "array([0, 1, 2, 3, 4, 5, 6, 7, 8, 9])"
            ]
          },
          "execution_count": 19,
          "metadata": {},
          "output_type": "execute_result"
        }
      ],
      "source": [
        "np.arange(10) #np.arange(start,last-1,skip)"
      ]
    },
    {
      "cell_type": "markdown",
      "metadata": {
        "id": "okCZJIW7l5Ji"
      },
      "source": [
        "# Performance measurement\n",
        "I mentioned that the key advantages of numpy are convenience and speed of computation.\n",
        "\n",
        "You'll often work with extremely large datasets, and thus it is important point for you to understand how much computation time (and memory) you can save using numpy, compared to standard python lists."
      ]
    },
    {
      "cell_type": "code",
      "execution_count": 6,
      "metadata": {
        "colab": {
          "base_uri": "https://localhost:8080/"
        },
        "id": "zk8iv4T0l5Ji",
        "outputId": "5b7382dc-0a44-489e-f45e-be428c515234"
      },
      "outputs": [
        {
          "output_type": "stream",
          "name": "stdout",
          "text": [
            "3.73 ms ± 926 µs per loop (mean ± std. dev. of 7 runs, 100 loops each)\n"
          ]
        }
      ],
      "source": [
        "c = range(10000)\n",
        "%timeit [i**3 for i in c]"
      ]
    },
    {
      "cell_type": "code",
      "execution_count": 7,
      "metadata": {
        "colab": {
          "base_uri": "https://localhost:8080/"
        },
        "id": "jliZ8b6zl5Ji",
        "outputId": "d07b8bfb-3959-4c30-c1c4-3552885fa22f"
      },
      "outputs": [
        {
          "output_type": "stream",
          "name": "stdout",
          "text": [
            "23.9 µs ± 496 ns per loop (mean ± std. dev. of 7 runs, 10000 loops each)\n"
          ]
        }
      ],
      "source": [
        "c_numpy = np.arange(10000)\n",
        "%timeit c_numpy**3"
      ]
    },
    {
      "cell_type": "markdown",
      "metadata": {
        "id": "2ydizg5ml5Jj"
      },
      "source": [
        "Still not convinced? want to see one more intresting example"
      ]
    },
    {
      "cell_type": "code",
      "execution_count": null,
      "metadata": {
        "id": "4MRqB-_Dl5Jj"
      },
      "outputs": [],
      "source": [
        "l1 = range(10000)\n",
        "l2 = [i**2 for i in range(10000)]"
      ]
    },
    {
      "cell_type": "code",
      "execution_count": null,
      "metadata": {
        "id": "2uPSE52jl5Jj",
        "outputId": "fb721016-efd9-4003-e1d0-a97294a0aaa0"
      },
      "outputs": [
        {
          "name": "stdout",
          "output_type": "stream",
          "text": [
            "2.19 ms ± 140 µs per loop (mean ± std. dev. of 7 runs, 100 loops each)\n"
          ]
        }
      ],
      "source": [
        "%timeit list(map(lambda x, y: x*y, l1, l2)) #iterators examples....map zip filters # inerator and iterable.."
      ]
    },
    {
      "cell_type": "code",
      "execution_count": null,
      "metadata": {
        "id": "UZGl2-AAl5Jk"
      },
      "outputs": [],
      "source": [
        "a1 = np.array(l1)\n",
        "b1 = np.array(l2)"
      ]
    },
    {
      "cell_type": "code",
      "execution_count": null,
      "metadata": {
        "id": "etoHoCMBl5Jk",
        "outputId": "6401e9bd-f002-492f-dc12-44ca125467ae"
      },
      "outputs": [
        {
          "name": "stdout",
          "output_type": "stream",
          "text": [
            "8.39 µs ± 177 ns per loop (mean ± std. dev. of 7 runs, 100000 loops each)\n"
          ]
        }
      ],
      "source": [
        "%timeit a1*b1"
      ]
    },
    {
      "cell_type": "code",
      "execution_count": null,
      "metadata": {
        "id": "I35R7QrUl5Jk",
        "outputId": "4ada7db7-c4be-4d27-939b-20b38c9646a8"
      },
      "outputs": [
        {
          "data": {
            "text/plain": [
              "array([       0,        1,        4, ..., 99940009, 99960004, 99980001])"
            ]
          },
          "execution_count": 28,
          "metadata": {},
          "output_type": "execute_result"
        }
      ],
      "source": [
        "a1"
      ]
    },
    {
      "cell_type": "code",
      "execution_count": null,
      "metadata": {
        "id": "s-9skvpzl5Jl",
        "outputId": "316869ed-38e7-4a9d-c9b3-0297960b3158"
      },
      "outputs": [
        {
          "data": {
            "text/plain": [
              "array([       0,        1,        4, ..., 99940009, 99960004, 99980001])"
            ]
          },
          "execution_count": 29,
          "metadata": {},
          "output_type": "execute_result"
        }
      ],
      "source": [
        "a1 * a1"
      ]
    },
    {
      "cell_type": "markdown",
      "metadata": {
        "id": "aaOuo0_Hl5Jl"
      },
      "source": [
        "so I can do everything without even writing a loop? yes... ohh wao"
      ]
    },
    {
      "cell_type": "markdown",
      "metadata": {
        "id": "FeJVff7cl5Jl"
      },
      "source": [
        "# Creating Numpy array\n",
        "\n",
        "There are multiple ways to create numpy array. Lets walk over them"
      ]
    },
    {
      "cell_type": "code",
      "execution_count": null,
      "metadata": {
        "id": "HJIJ8Yzjl5Jl",
        "outputId": "d80dfada-cdca-4164-cd35-8085d75e9ef9"
      },
      "outputs": [
        {
          "data": {
            "text/plain": [
              "array([ 2,  3,  4,  5,  6,  7,  8,  9, 10, 11])"
            ]
          },
          "execution_count": 105,
          "metadata": {},
          "output_type": "execute_result"
        }
      ],
      "source": [
        "np.arange(2,12)"
      ]
    },
    {
      "cell_type": "code",
      "execution_count": null,
      "metadata": {
        "id": "EUVcRLoLl5Jm",
        "outputId": "cefb4ab5-c62d-4f85-c816-b972f3bacb5b"
      },
      "outputs": [
        {
          "data": {
            "text/plain": [
              "array([ 2,  4,  6,  8, 10])"
            ]
          },
          "execution_count": 106,
          "metadata": {},
          "output_type": "execute_result"
        }
      ],
      "source": [
        "np.arange(2,12,2)"
      ]
    },
    {
      "cell_type": "code",
      "execution_count": null,
      "metadata": {
        "id": "uFG9rMXjl5Jm",
        "outputId": "7def63b4-ea57-4cb9-914e-b0f956eb4930"
      },
      "outputs": [
        {
          "data": {
            "text/plain": [
              "array([[ 0.,  0.],\n",
              "       [ 0.,  0.],\n",
              "       [ 0.,  0.]])"
            ]
          },
          "execution_count": 35,
          "metadata": {},
          "output_type": "execute_result"
        }
      ],
      "source": [
        "np.zeros((3,2))"
      ]
    },
    {
      "cell_type": "code",
      "source": [
        "np.zeros(10)"
      ],
      "metadata": {
        "colab": {
          "base_uri": "https://localhost:8080/"
        },
        "id": "mCuDToeZtGgQ",
        "outputId": "a7a40cbc-abe6-4e64-abf3-6915993e2d85"
      },
      "execution_count": null,
      "outputs": [
        {
          "output_type": "execute_result",
          "data": {
            "text/plain": [
              "array([0., 0., 0., 0., 0., 0., 0., 0., 0., 0.])"
            ]
          },
          "metadata": {},
          "execution_count": 11
        }
      ]
    },
    {
      "cell_type": "code",
      "execution_count": null,
      "metadata": {
        "id": "DpAc6F-Ul5Jm",
        "outputId": "e350c8f3-3bd3-4b92-b7ac-e64d1f5ff7fb"
      },
      "outputs": [
        {
          "data": {
            "text/plain": [
              "array([[ 1.,  1.],\n",
              "       [ 1.,  1.],\n",
              "       [ 1.,  1.]])"
            ]
          },
          "execution_count": 36,
          "metadata": {},
          "output_type": "execute_result"
        }
      ],
      "source": [
        "np.ones((3,2))"
      ]
    },
    {
      "cell_type": "code",
      "execution_count": null,
      "metadata": {
        "id": "U_UN5l99l5Jm",
        "outputId": "a642e2b1-185e-4f54-edff-460f9c9667f6"
      },
      "outputs": [
        {
          "data": {
            "text/plain": [
              "array([[ 1.,  0.,  0.],\n",
              "       [ 0.,  1.,  0.],\n",
              "       [ 0.,  0.,  1.]])"
            ]
          },
          "execution_count": 38,
          "metadata": {},
          "output_type": "execute_result"
        }
      ],
      "source": [
        "np.eye(3)"
      ]
    },
    {
      "cell_type": "code",
      "execution_count": null,
      "metadata": {
        "id": "ZqH-oJjXl5Jn",
        "outputId": "e83da993-52a5-44d2-96d6-894b3980081d"
      },
      "outputs": [
        {
          "data": {
            "text/plain": [
              "array([[2, 2, 2],\n",
              "       [2, 2, 2],\n",
              "       [2, 2, 2]])"
            ]
          },
          "execution_count": 40,
          "metadata": {},
          "output_type": "execute_result"
        }
      ],
      "source": [
        "np.full((3,3),2)"
      ]
    },
    {
      "cell_type": "code",
      "execution_count": null,
      "metadata": {
        "id": "hiTVYrLKl5Jn",
        "outputId": "ee2d0fc0-d01e-4cb3-93d1-70a6a879345f"
      },
      "outputs": [
        {
          "data": {
            "text/plain": [
              "array([[2, 2, 2],\n",
              "       [2, 2, 2],\n",
              "       [2, 2, 2]])"
            ]
          },
          "execution_count": 92,
          "metadata": {},
          "output_type": "execute_result"
        }
      ],
      "source": [
        "np.full((3,3),2.2, dtype= np.int)"
      ]
    },
    {
      "cell_type": "code",
      "execution_count": null,
      "metadata": {
        "id": "MWchDYARl5Jn",
        "outputId": "e9b0045a-2e54-4a27-9f9b-a55aa77f897e"
      },
      "outputs": [
        {
          "data": {
            "text/plain": [
              "array([[1, 0, 0, 0, 0],\n",
              "       [0, 2, 0, 0, 0],\n",
              "       [0, 0, 3, 0, 0],\n",
              "       [0, 0, 0, 4, 0],\n",
              "       [0, 0, 0, 0, 5]])"
            ]
          },
          "execution_count": 135,
          "metadata": {},
          "output_type": "execute_result"
        }
      ],
      "source": [
        "np.diag([1,2,3,4,5])"
      ]
    },
    {
      "cell_type": "code",
      "execution_count": null,
      "metadata": {
        "id": "3Uw9DyP_l5Jn",
        "outputId": "81a3d64f-9559-4cbf-eae2-cdf2c7031d7c"
      },
      "outputs": [
        {
          "data": {
            "text/plain": [
              "array([[1, 2, 3],\n",
              "       [1, 2, 3],\n",
              "       [1, 2, 3]])"
            ]
          },
          "execution_count": 142,
          "metadata": {},
          "output_type": "execute_result"
        }
      ],
      "source": [
        "v = np.array([1,2,3])\n",
        "np.tile(v,(3,1)) # stack 3 copies of v on top of each other"
      ]
    },
    {
      "cell_type": "code",
      "execution_count": null,
      "metadata": {
        "id": "ev97kST4l5Jn"
      },
      "outputs": [],
      "source": [
        "import random"
      ]
    },
    {
      "cell_type": "code",
      "execution_count": null,
      "metadata": {
        "id": "TYzNHFq_l5Jo",
        "outputId": "458849cb-b6e1-4696-ea38-fd96e046df83"
      },
      "outputs": [
        {
          "data": {
            "text/plain": [
              "0.8105331407200129"
            ]
          },
          "execution_count": 44,
          "metadata": {},
          "output_type": "execute_result"
        }
      ],
      "source": [
        "\n",
        "# between 0 and 1\n",
        "np.random.random()"
      ]
    },
    {
      "cell_type": "code",
      "execution_count": null,
      "metadata": {
        "id": "w1Nm2EWpl5Jo",
        "outputId": "aef5cb14-d4b2-4f60-a03a-4c68fb00e2bb"
      },
      "outputs": [
        {
          "data": {
            "text/plain": [
              "39.48149909935893"
            ]
          },
          "execution_count": 46,
          "metadata": {},
          "output_type": "execute_result"
        }
      ],
      "source": [
        "# so let say I want a random value between 2 and 50\n",
        "50*np.random.random()+2"
      ]
    },
    {
      "cell_type": "code",
      "execution_count": null,
      "metadata": {
        "id": "WIYwYjWLl5Jo",
        "outputId": "aa7deddd-9fe9-4073-c258-d210de40d966"
      },
      "outputs": [
        {
          "data": {
            "text/plain": [
              "array([[ 0.66403971,  0.9379972 ,  0.43803717],\n",
              "       [ 0.7747613 ,  0.44762134,  0.96971174],\n",
              "       [ 0.06266723,  0.48139333,  0.7745762 ]])"
            ]
          },
          "execution_count": 48,
          "metadata": {},
          "output_type": "execute_result"
        }
      ],
      "source": [
        "np.random.random([3,3])"
      ]
    },
    {
      "cell_type": "code",
      "execution_count": null,
      "metadata": {
        "id": "xYrWJTSXl5Jo"
      },
      "outputs": [],
      "source": [
        "# 100 values between 1 and 50\n",
        "a = np.linspace(1,50,100)"
      ]
    },
    {
      "cell_type": "code",
      "execution_count": null,
      "metadata": {
        "id": "l0YkvKEfl5Jp",
        "outputId": "4c684949-fb37-412d-aa37-76217c928ab9"
      },
      "outputs": [
        {
          "data": {
            "text/plain": [
              "array([  1.        ,   1.49494949,   1.98989899,   2.48484848,\n",
              "         2.97979798,   3.47474747,   3.96969697,   4.46464646,\n",
              "         4.95959596,   5.45454545,   5.94949495,   6.44444444,\n",
              "         6.93939394,   7.43434343,   7.92929293,   8.42424242,\n",
              "         8.91919192,   9.41414141,   9.90909091,  10.4040404 ,\n",
              "        10.8989899 ,  11.39393939,  11.88888889,  12.38383838,\n",
              "        12.87878788,  13.37373737,  13.86868687,  14.36363636,\n",
              "        14.85858586,  15.35353535,  15.84848485,  16.34343434,\n",
              "        16.83838384,  17.33333333,  17.82828283,  18.32323232,\n",
              "        18.81818182,  19.31313131,  19.80808081,  20.3030303 ,\n",
              "        20.7979798 ,  21.29292929,  21.78787879,  22.28282828,\n",
              "        22.77777778,  23.27272727,  23.76767677,  24.26262626,\n",
              "        24.75757576,  25.25252525,  25.74747475,  26.24242424,\n",
              "        26.73737374,  27.23232323,  27.72727273,  28.22222222,\n",
              "        28.71717172,  29.21212121,  29.70707071,  30.2020202 ,\n",
              "        30.6969697 ,  31.19191919,  31.68686869,  32.18181818,\n",
              "        32.67676768,  33.17171717,  33.66666667,  34.16161616,\n",
              "        34.65656566,  35.15151515,  35.64646465,  36.14141414,\n",
              "        36.63636364,  37.13131313,  37.62626263,  38.12121212,\n",
              "        38.61616162,  39.11111111,  39.60606061,  40.1010101 ,\n",
              "        40.5959596 ,  41.09090909,  41.58585859,  42.08080808,\n",
              "        42.57575758,  43.07070707,  43.56565657,  44.06060606,\n",
              "        44.55555556,  45.05050505,  45.54545455,  46.04040404,\n",
              "        46.53535354,  47.03030303,  47.52525253,  48.02020202,\n",
              "        48.51515152,  49.01010101,  49.50505051,  50.        ])"
            ]
          },
          "execution_count": 52,
          "metadata": {},
          "output_type": "execute_result"
        }
      ],
      "source": [
        "a"
      ]
    },
    {
      "cell_type": "code",
      "execution_count": null,
      "metadata": {
        "id": "dhm7Yalql5Jp",
        "outputId": "c1df86d9-c0cb-4348-83c3-8a1fc446db70"
      },
      "outputs": [
        {
          "data": {
            "text/plain": [
              "8"
            ]
          },
          "execution_count": 98,
          "metadata": {},
          "output_type": "execute_result"
        }
      ],
      "source": [
        "#memory used by each array element in bytes\n",
        "a.itemsize"
      ]
    },
    {
      "cell_type": "code",
      "execution_count": null,
      "metadata": {
        "id": "staptmH5l5Jp",
        "outputId": "a0c22a3a-bebe-4870-a597-9f9506bab729"
      },
      "outputs": [
        {
          "data": {
            "text/plain": [
              "array([ 0,  1,  2,  3,  4,  5,  6,  7,  8,  9, 10, 11, 12, 13, 14, 15, 16,\n",
              "       17, 18, 19, 20, 21, 22, 23])"
            ]
          },
          "execution_count": 101,
          "metadata": {},
          "output_type": "execute_result"
        }
      ],
      "source": [
        "np.arange(24)"
      ]
    },
    {
      "cell_type": "code",
      "execution_count": null,
      "metadata": {
        "colab": {
          "base_uri": "https://localhost:8080/"
        },
        "id": "ZaPfBDMKl5Jp",
        "outputId": "96809399-73fb-430d-9d44-7f834b64b74f"
      },
      "outputs": [
        {
          "output_type": "execute_result",
          "data": {
            "text/plain": [
              "array([[[ 0,  1,  2],\n",
              "        [ 3,  4,  5],\n",
              "        [ 6,  7,  8]],\n",
              "\n",
              "       [[ 9, 10, 11],\n",
              "        [12, 13, 14],\n",
              "        [15, 16, 17]]])"
            ]
          },
          "metadata": {},
          "execution_count": 14
        }
      ],
      "source": [
        "np.arange(18).reshape(2,3,3) #reshape multiplication should be equal total number"
      ]
    },
    {
      "cell_type": "code",
      "source": [],
      "metadata": {
        "id": "ivMyXOJ-zy8s"
      },
      "execution_count": null,
      "outputs": []
    },
    {
      "cell_type": "code",
      "execution_count": null,
      "metadata": {
        "id": "f8zG6M34l5Jp",
        "outputId": "56678339-f407-476f-ac1c-a0b6cf985140"
      },
      "outputs": [
        {
          "data": {
            "text/plain": [
              "array([[[ 0,  1,  2],\n",
              "        [ 3,  4,  5],\n",
              "        [ 6,  7,  8]],\n",
              "\n",
              "       [[ 9, 10, 11],\n",
              "        [12, 13, 14],\n",
              "        [15, 16, 17]]])"
            ]
          },
          "execution_count": 109,
          "metadata": {},
          "output_type": "execute_result"
        }
      ],
      "source": [
        "# -1 will automatically adjust dimention\n",
        "np.arange(18).reshape(2,3,-1)"
      ]
    },
    {
      "cell_type": "markdown",
      "metadata": {
        "id": "4zJVlvNPl5Jq"
      },
      "source": [
        "# accessing Numpy array element"
      ]
    },
    {
      "cell_type": "code",
      "execution_count": null,
      "metadata": {
        "id": "U8NChyQOl5Jq"
      },
      "outputs": [],
      "source": [
        "a = np.array([2,4,6,8,10,12,14,16])"
      ]
    },
    {
      "cell_type": "code",
      "execution_count": null,
      "metadata": {
        "id": "wNH5NjoMl5Jq",
        "outputId": "d25c5d53-4690-4844-8d71-aeeac7dc854a"
      },
      "outputs": [
        {
          "data": {
            "text/plain": [
              "array([ 2,  4,  6,  8, 10, 12, 14, 16])"
            ]
          },
          "execution_count": 81,
          "metadata": {},
          "output_type": "execute_result"
        }
      ],
      "source": [
        "a"
      ]
    },
    {
      "cell_type": "code",
      "execution_count": null,
      "metadata": {
        "id": "QK2rRHa6l5Jq",
        "outputId": "05fd641e-3aa8-4e59-c188-7fba6ef494c9"
      },
      "outputs": [
        {
          "data": {
            "text/plain": [
              "6"
            ]
          },
          "execution_count": 82,
          "metadata": {},
          "output_type": "execute_result"
        }
      ],
      "source": [
        "a[2]"
      ]
    },
    {
      "cell_type": "code",
      "execution_count": null,
      "metadata": {
        "id": "BAl-XCmVl5Jr",
        "outputId": "2830d4dc-08dd-4b62-8165-96a8e811ed6a"
      },
      "outputs": [
        {
          "data": {
            "text/plain": [
              "array([ 6, 10, 14])"
            ]
          },
          "execution_count": 83,
          "metadata": {},
          "output_type": "execute_result"
        }
      ],
      "source": [
        "a[[2,4,6]]"
      ]
    },
    {
      "cell_type": "code",
      "execution_count": null,
      "metadata": {
        "id": "2EU7G4Asl5Jr",
        "outputId": "9a2ab4ad-98e6-42dc-bf19-80da1bad67f8"
      },
      "outputs": [
        {
          "data": {
            "text/plain": [
              "array([ 6,  8, 10, 12, 14, 16])"
            ]
          },
          "execution_count": 84,
          "metadata": {},
          "output_type": "execute_result"
        }
      ],
      "source": [
        "a[2:] #arrayname[start:lastindex-1:skip]start=0,skip=1"
      ]
    },
    {
      "cell_type": "code",
      "execution_count": null,
      "metadata": {
        "id": "hdHQ1N9jl5Jr",
        "outputId": "b9a02d90-1075-465b-c011-69c7a04f6453"
      },
      "outputs": [
        {
          "data": {
            "text/plain": [
              "array([ 6,  8, 10])"
            ]
          },
          "execution_count": 85,
          "metadata": {},
          "output_type": "execute_result"
        }
      ],
      "source": [
        "a[2:5]"
      ]
    },
    {
      "cell_type": "code",
      "execution_count": null,
      "metadata": {
        "id": "BcgU-_I3l5Jr",
        "outputId": "72b2bf9a-ed7b-4720-fd0e-907bec9a9445"
      },
      "outputs": [
        {
          "data": {
            "text/plain": [
              "array([ 2,  6, 10, 14])"
            ]
          },
          "execution_count": 86,
          "metadata": {},
          "output_type": "execute_result"
        }
      ],
      "source": [
        "a[0::2]"
      ]
    },
    {
      "cell_type": "markdown",
      "metadata": {
        "id": "JRNk79OBl5Js"
      },
      "source": [
        "Lets check the same for 2 D array"
      ]
    },
    {
      "cell_type": "code",
      "execution_count": null,
      "metadata": {
        "id": "8T10dvkUl5Js"
      },
      "outputs": [],
      "source": [
        "a = np.array([[1,2,3],[4,5,6],[7,8,9]])"
      ]
    },
    {
      "cell_type": "code",
      "execution_count": null,
      "metadata": {
        "colab": {
          "base_uri": "https://localhost:8080/"
        },
        "id": "lxYr2bQll5Js",
        "outputId": "48c5dac6-7055-4814-b068-a807b507f4cc"
      },
      "outputs": [
        {
          "output_type": "execute_result",
          "data": {
            "text/plain": [
              "array([[1, 2, 3],\n",
              "       [4, 5, 6],\n",
              "       [7, 8, 9]])"
            ]
          },
          "metadata": {},
          "execution_count": 17
        }
      ],
      "source": [
        "a"
      ]
    },
    {
      "cell_type": "code",
      "execution_count": null,
      "metadata": {
        "colab": {
          "base_uri": "https://localhost:8080/"
        },
        "id": "0Vaxt9HIl5Js",
        "outputId": "6852166f-1317-4196-f159-4a87fe0ed46b"
      },
      "outputs": [
        {
          "output_type": "execute_result",
          "data": {
            "text/plain": [
              "9"
            ]
          },
          "metadata": {},
          "execution_count": 18
        }
      ],
      "source": [
        "a[2,2]  #a[start:last-1:skip,start:last-1:skip]"
      ]
    },
    {
      "cell_type": "code",
      "source": [
        "a[:1:,1::]"
      ],
      "metadata": {
        "colab": {
          "base_uri": "https://localhost:8080/"
        },
        "id": "ONfvynTc1OQN",
        "outputId": "6d99c27d-5bbd-472c-d10a-4f0d4d9edbbd"
      },
      "execution_count": null,
      "outputs": [
        {
          "output_type": "execute_result",
          "data": {
            "text/plain": [
              "array([[2, 3]])"
            ]
          },
          "metadata": {},
          "execution_count": 19
        }
      ]
    },
    {
      "cell_type": "code",
      "source": [
        "a*2"
      ],
      "metadata": {
        "colab": {
          "base_uri": "https://localhost:8080/"
        },
        "id": "V4OPOqOx1t2S",
        "outputId": "cea9a024-5e56-4893-b4ae-cd8ddfc4b72b"
      },
      "execution_count": null,
      "outputs": [
        {
          "output_type": "execute_result",
          "data": {
            "text/plain": [
              "array([[ 2,  4,  6],\n",
              "       [ 8, 10, 12],\n",
              "       [14, 16, 18]])"
            ]
          },
          "metadata": {},
          "execution_count": 20
        }
      ]
    },
    {
      "cell_type": "code",
      "execution_count": null,
      "metadata": {
        "id": "GsSvaxRTl5Js",
        "outputId": "ce72e549-c506-4b21-8368-820bbaff0d8d"
      },
      "outputs": [
        {
          "data": {
            "text/plain": [
              "array([[False, False,  True],\n",
              "       [ True,  True,  True],\n",
              "       [ True,  True,  True]], dtype=bool)"
            ]
          },
          "execution_count": 127,
          "metadata": {},
          "output_type": "execute_result"
        }
      ],
      "source": [
        "a > 2"
      ]
    },
    {
      "cell_type": "code",
      "execution_count": null,
      "metadata": {
        "id": "vBM6XyxPl5Jt",
        "outputId": "fb9915c0-4470-4208-b500-f8b1537a85fb"
      },
      "outputs": [
        {
          "data": {
            "text/plain": [
              "array([3, 4, 5, 6, 7, 8, 9])"
            ]
          },
          "execution_count": 128,
          "metadata": {},
          "output_type": "execute_result"
        }
      ],
      "source": [
        "a[a > 2]"
      ]
    },
    {
      "cell_type": "code",
      "execution_count": null,
      "metadata": {
        "id": "hPfcottKl5Jt",
        "outputId": "04f1463a-e73a-4d7e-ac8c-40706ea77833"
      },
      "outputs": [
        {
          "data": {
            "text/plain": [
              "array([3, 4])"
            ]
          },
          "execution_count": 129,
          "metadata": {},
          "output_type": "execute_result"
        }
      ],
      "source": [
        "a[(a > 2) & (a < 5)]"
      ]
    },
    {
      "cell_type": "code",
      "source": [],
      "metadata": {
        "id": "fHLHK_Qk2dkB"
      },
      "execution_count": null,
      "outputs": []
    },
    {
      "cell_type": "code",
      "execution_count": null,
      "metadata": {
        "id": "lO4C32ZWl5Jt"
      },
      "outputs": [],
      "source": []
    },
    {
      "cell_type": "code",
      "execution_count": null,
      "metadata": {
        "id": "x5hSyZCll5Jt"
      },
      "outputs": [],
      "source": []
    },
    {
      "cell_type": "code",
      "execution_count": null,
      "metadata": {
        "id": "gYmMphrEl5Jt"
      },
      "outputs": [],
      "source": []
    },
    {
      "cell_type": "code",
      "execution_count": null,
      "metadata": {
        "id": "Ux9ChOBVl5Jt"
      },
      "outputs": [],
      "source": []
    },
    {
      "cell_type": "code",
      "execution_count": null,
      "metadata": {
        "id": "7svgapIYl5Ju"
      },
      "outputs": [],
      "source": []
    },
    {
      "cell_type": "markdown",
      "metadata": {
        "id": "hiQ63__nl5Ju"
      },
      "source": [
        "# subset of numpy array"
      ]
    },
    {
      "cell_type": "code",
      "execution_count": null,
      "metadata": {
        "id": "4tp0geEil5Ju"
      },
      "outputs": [],
      "source": [
        "a = np.arange(10)"
      ]
    },
    {
      "cell_type": "code",
      "execution_count": null,
      "metadata": {
        "id": "BOfiHzzxl5Ju"
      },
      "outputs": [],
      "source": [
        "b = a"
      ]
    },
    {
      "cell_type": "code",
      "execution_count": null,
      "metadata": {
        "colab": {
          "base_uri": "https://localhost:8080/"
        },
        "id": "lRNDHBThl5Ju",
        "outputId": "e10e19ce-ff8d-4bce-fcf9-dfc0cc0f0297"
      },
      "outputs": [
        {
          "output_type": "execute_result",
          "data": {
            "text/plain": [
              "array([0, 1, 2, 3, 4, 5, 6, 7, 8, 9])"
            ]
          },
          "metadata": {},
          "execution_count": 24
        }
      ],
      "source": [
        "b"
      ]
    },
    {
      "cell_type": "code",
      "execution_count": null,
      "metadata": {
        "id": "WZDhqbRUl5Ju"
      },
      "outputs": [],
      "source": [
        "b[0] = 11"
      ]
    },
    {
      "cell_type": "code",
      "execution_count": null,
      "metadata": {
        "colab": {
          "base_uri": "https://localhost:8080/"
        },
        "id": "wE-rCL4wl5Jv",
        "outputId": "4e38b651-50ba-4123-e880-bfb16fbf562d"
      },
      "outputs": [
        {
          "output_type": "execute_result",
          "data": {
            "text/plain": [
              "array([11,  1,  2,  3,  4,  5,  6,  7,  8,  9])"
            ]
          },
          "metadata": {},
          "execution_count": 26
        }
      ],
      "source": [
        "b"
      ]
    },
    {
      "cell_type": "code",
      "execution_count": null,
      "metadata": {
        "colab": {
          "base_uri": "https://localhost:8080/"
        },
        "id": "GrOiCQtul5Jv",
        "outputId": "ebbfbb2a-7f88-4c95-80bc-5f0b4395310a"
      },
      "outputs": [
        {
          "output_type": "execute_result",
          "data": {
            "text/plain": [
              "array([11,  1,  2,  3,  4,  5,  6,  7,  8,  9])"
            ]
          },
          "metadata": {},
          "execution_count": 27
        }
      ],
      "source": [
        "# Notice a is also changed\n",
        "a"
      ]
    },
    {
      "cell_type": "code",
      "source": [
        "a=np.arange(10)\n",
        "b=a.copy()\n",
        "b[0]=15\n",
        "print(a)\n",
        "print(b)"
      ],
      "metadata": {
        "colab": {
          "base_uri": "https://localhost:8080/"
        },
        "id": "PB_Fj0SQ3oHM",
        "outputId": "47476b84-8e60-47d4-d1c4-f3c01fdc1b96"
      },
      "execution_count": null,
      "outputs": [
        {
          "output_type": "stream",
          "name": "stdout",
          "text": [
            "[0 1 2 3 4 5 6 7 8 9]\n",
            "[15  1  2  3  4  5  6  7  8  9]\n"
          ]
        }
      ]
    },
    {
      "cell_type": "code",
      "execution_count": null,
      "metadata": {
        "id": "Qj9Ywkhrl5Jv",
        "outputId": "e8bf5f7d-dc54-46c4-a6d2-dc5b8829d140"
      },
      "outputs": [
        {
          "data": {
            "text/plain": [
              "True"
            ]
          },
          "execution_count": 164,
          "metadata": {},
          "output_type": "execute_result"
        }
      ],
      "source": [
        "np.shares_memory(a,b)"
      ]
    },
    {
      "cell_type": "code",
      "execution_count": null,
      "metadata": {
        "id": "NqLRAFrPl5Jv"
      },
      "outputs": [],
      "source": [
        "a = np.arange(10)"
      ]
    },
    {
      "cell_type": "code",
      "execution_count": null,
      "metadata": {
        "id": "63_VM-1rl5Jv"
      },
      "outputs": [],
      "source": [
        "b = a.copy()"
      ]
    },
    {
      "cell_type": "code",
      "execution_count": null,
      "metadata": {
        "id": "pQpQTauel5Jw"
      },
      "outputs": [],
      "source": [
        "b[0] = 11"
      ]
    },
    {
      "cell_type": "code",
      "execution_count": null,
      "metadata": {
        "id": "2Vqb0MVKl5Jw",
        "outputId": "f0f689ee-f600-4ad2-c308-c6753466cadd"
      },
      "outputs": [
        {
          "data": {
            "text/plain": [
              "array([0, 1, 2, 3, 4, 5, 6, 7, 8, 9])"
            ]
          },
          "execution_count": 167,
          "metadata": {},
          "output_type": "execute_result"
        }
      ],
      "source": [
        "b\n",
        "\n"
      ]
    },
    {
      "cell_type": "code",
      "execution_count": null,
      "metadata": {
        "id": "b2-ugFJQl5Jw",
        "outputId": "eb779b18-dd07-4476-bf87-37f15d4d2494"
      },
      "outputs": [
        {
          "data": {
            "text/plain": [
              "False"
            ]
          },
          "execution_count": 168,
          "metadata": {},
          "output_type": "execute_result"
        }
      ],
      "source": [
        "np.shares_memory(a,b)"
      ]
    },
    {
      "cell_type": "code",
      "execution_count": null,
      "metadata": {
        "id": "0iKZZOGtl5Jw",
        "outputId": "49c1bbe8-c561-4855-d071-4a69f8c64e88"
      },
      "outputs": [
        {
          "data": {
            "text/plain": [
              "array([0, 1, 2, 3, 4, 5, 6, 7, 8, 9])"
            ]
          },
          "execution_count": 70,
          "metadata": {},
          "output_type": "execute_result"
        }
      ],
      "source": [
        "a"
      ]
    },
    {
      "cell_type": "markdown",
      "metadata": {
        "id": "ZA33cKBFl5Jw"
      },
      "source": [
        "# More operations"
      ]
    },
    {
      "cell_type": "code",
      "execution_count": null,
      "metadata": {
        "id": "5_u5l-zZl5Jx"
      },
      "outputs": [],
      "source": [
        "a = np.array([[1,2,3],[4,5,6]])"
      ]
    },
    {
      "cell_type": "code",
      "execution_count": null,
      "metadata": {
        "id": "kof2xhS0l5Jx",
        "outputId": "825c0012-d52b-45e1-cad6-693a113f3eb7"
      },
      "outputs": [
        {
          "data": {
            "text/plain": [
              "array([[1, 2, 3],\n",
              "       [4, 5, 6]])"
            ]
          },
          "execution_count": 113,
          "metadata": {},
          "output_type": "execute_result"
        }
      ],
      "source": [
        "a\n"
      ]
    },
    {
      "cell_type": "code",
      "execution_count": null,
      "metadata": {
        "id": "Exc4lLhal5Jx",
        "outputId": "90e7e2b4-72b5-4016-b20a-9c4dc8c6cf8c"
      },
      "outputs": [
        {
          "data": {
            "text/plain": [
              "array([[1, 4],\n",
              "       [2, 5],\n",
              "       [3, 6]])"
            ]
          },
          "execution_count": 114,
          "metadata": {},
          "output_type": "execute_result"
        }
      ],
      "source": [
        "a.T"
      ]
    },
    {
      "cell_type": "code",
      "execution_count": null,
      "metadata": {
        "id": "XJHtkiWZl5Jx"
      },
      "outputs": [],
      "source": [
        "b = np.array([[7,8,9],[10,11,12]])"
      ]
    },
    {
      "cell_type": "code",
      "execution_count": null,
      "metadata": {
        "id": "ckrTbzGCl5Jx",
        "outputId": "2e8dc676-bc91-45b1-ea74-2b54abb20f4f"
      },
      "outputs": [
        {
          "data": {
            "text/plain": [
              "array([[1, 2, 3],\n",
              "       [4, 5, 6]])"
            ]
          },
          "execution_count": 116,
          "metadata": {},
          "output_type": "execute_result"
        }
      ],
      "source": [
        "a"
      ]
    },
    {
      "cell_type": "code",
      "execution_count": null,
      "metadata": {
        "id": "zkYfpepjl5Jx",
        "outputId": "3b77382e-f71b-4f8a-cf2c-a3780346995a"
      },
      "outputs": [
        {
          "data": {
            "text/plain": [
              "array([0, 1, 2, 3, 4, 5, 6, 7, 8, 9])"
            ]
          },
          "execution_count": 170,
          "metadata": {},
          "output_type": "execute_result"
        }
      ],
      "source": [
        "b"
      ]
    },
    {
      "cell_type": "code",
      "execution_count": null,
      "metadata": {
        "id": "M6bxy4aHl5Jy",
        "outputId": "b9214518-7e41-499c-a9ea-df74d2a84044"
      },
      "outputs": [
        {
          "data": {
            "text/plain": [
              "array([[False, False, False],\n",
              "       [False, False, False]], dtype=bool)"
            ]
          },
          "execution_count": 174,
          "metadata": {},
          "output_type": "execute_result"
        }
      ],
      "source": [
        "a == b"
      ]
    },
    {
      "cell_type": "code",
      "execution_count": null,
      "metadata": {
        "id": "Z3jmW1LIl5Jy"
      },
      "outputs": [],
      "source": []
    },
    {
      "cell_type": "code",
      "execution_count": null,
      "metadata": {
        "id": "K6lah4nEl5Jy",
        "outputId": "7526ffc9-8022-4b05-f00b-cc66d160262d"
      },
      "outputs": [
        {
          "data": {
            "text/plain": [
              "array([[ 1,  2,  3],\n",
              "       [ 4,  5,  6],\n",
              "       [ 7,  8,  9],\n",
              "       [10, 11, 12]])"
            ]
          },
          "execution_count": 118,
          "metadata": {},
          "output_type": "execute_result"
        }
      ],
      "source": [
        "np.vstack((a,b))"
      ]
    },
    {
      "cell_type": "code",
      "execution_count": null,
      "metadata": {
        "id": "YNmMrdnhl5Jy",
        "outputId": "189daed9-1020-42cd-a387-6ee4ec6c9e2e"
      },
      "outputs": [
        {
          "data": {
            "text/plain": [
              "array([0, 1, 2, 3, 4, 5, 6, 7, 8, 9, 0, 1, 2, 3, 4, 5, 6, 7, 8, 9])"
            ]
          },
          "execution_count": 169,
          "metadata": {},
          "output_type": "execute_result"
        }
      ],
      "source": [
        "np.hstack((a,b))"
      ]
    },
    {
      "cell_type": "markdown",
      "metadata": {
        "id": "XRYkljnql5Jy"
      },
      "source": [
        "# MAthmatical operation"
      ]
    },
    {
      "cell_type": "markdown",
      "source": [
        "# New Section"
      ],
      "metadata": {
        "id": "-y69lZJZjOVo"
      }
    },
    {
      "cell_type": "markdown",
      "source": [
        "# New Section"
      ],
      "metadata": {
        "id": "cDbb2-enjPfz"
      }
    },
    {
      "cell_type": "code",
      "execution_count": null,
      "metadata": {
        "id": "iuyaoDTgl5Jz"
      },
      "outputs": [],
      "source": []
    },
    {
      "cell_type": "code",
      "execution_count": null,
      "metadata": {
        "id": "MhQNUppwl5Jz"
      },
      "outputs": [],
      "source": [
        "a = np.arange(1,10)"
      ]
    },
    {
      "cell_type": "code",
      "execution_count": null,
      "metadata": {
        "id": "3QekL5nyl5Jz",
        "outputId": "320e353f-662d-4750-8b19-b90f0146e092"
      },
      "outputs": [
        {
          "data": {
            "text/plain": [
              "array([ 0.84147098,  0.90929743,  0.14112001, -0.7568025 , -0.95892427,\n",
              "       -0.2794155 ,  0.6569866 ,  0.98935825,  0.41211849])"
            ]
          },
          "execution_count": 131,
          "metadata": {},
          "output_type": "execute_result"
        }
      ],
      "source": [
        "np.sin(a)"
      ]
    },
    {
      "cell_type": "code",
      "execution_count": null,
      "metadata": {
        "id": "9cZxzSPPl5Jz",
        "outputId": "fa214b0d-ebe6-4b0d-9a28-3ccb40cc824a"
      },
      "outputs": [
        {
          "data": {
            "text/plain": [
              "array([ 0.54030231, -0.41614684, -0.9899925 , -0.65364362,  0.28366219,\n",
              "        0.96017029,  0.75390225, -0.14550003, -0.91113026])"
            ]
          },
          "execution_count": 132,
          "metadata": {},
          "output_type": "execute_result"
        }
      ],
      "source": [
        "np.cos(a)"
      ]
    },
    {
      "cell_type": "code",
      "execution_count": null,
      "metadata": {
        "id": "bpeeAZjcl5Jz",
        "outputId": "47794703-d9bc-41f3-992c-88f88560149d"
      },
      "outputs": [
        {
          "data": {
            "text/plain": [
              "array([  2.71828183e+00,   7.38905610e+00,   2.00855369e+01,\n",
              "         5.45981500e+01,   1.48413159e+02,   4.03428793e+02,\n",
              "         1.09663316e+03,   2.98095799e+03,   8.10308393e+03])"
            ]
          },
          "execution_count": 133,
          "metadata": {},
          "output_type": "execute_result"
        }
      ],
      "source": [
        "np.exp(a)"
      ]
    },
    {
      "cell_type": "code",
      "execution_count": null,
      "metadata": {
        "id": "0yQ52cD-l5Jz",
        "outputId": "5ab930c0-8402-4f04-f957-fbf8bf285aca"
      },
      "outputs": [
        {
          "data": {
            "text/plain": [
              "45"
            ]
          },
          "execution_count": 191,
          "metadata": {},
          "output_type": "execute_result"
        }
      ],
      "source": [
        "np.sum(a)"
      ]
    },
    {
      "cell_type": "code",
      "execution_count": null,
      "metadata": {
        "id": "w_xInQO2l5J0",
        "outputId": "5c727ce3-ecda-49c3-cca9-1776be3fea44"
      },
      "outputs": [
        {
          "data": {
            "text/plain": [
              "5.0"
            ]
          },
          "execution_count": 193,
          "metadata": {},
          "output_type": "execute_result"
        }
      ],
      "source": [
        "np.median(a)"
      ]
    },
    {
      "cell_type": "code",
      "execution_count": null,
      "metadata": {
        "id": "9z-n9bGDl5J0",
        "outputId": "0c3f632e-8c09-46a0-aa37-9aef379ccfd5"
      },
      "outputs": [
        {
          "data": {
            "text/plain": [
              "2.5819888974716112"
            ]
          },
          "execution_count": 194,
          "metadata": {},
          "output_type": "execute_result"
        }
      ],
      "source": [
        "a.std()"
      ]
    },
    {
      "cell_type": "code",
      "execution_count": null,
      "metadata": {
        "id": "6xhdyF_6l5J0"
      },
      "outputs": [],
      "source": [
        "a = np.arange(1,10).reshape(3,3)"
      ]
    },
    {
      "cell_type": "code",
      "execution_count": null,
      "metadata": {
        "id": "Qfw7cqIUl5J0",
        "outputId": "d9a923d5-b241-47dc-b2d6-7879fd725b15"
      },
      "outputs": [
        {
          "data": {
            "text/plain": [
              "-9.5161973539299405e-16"
            ]
          },
          "execution_count": 148,
          "metadata": {},
          "output_type": "execute_result"
        }
      ],
      "source": [
        "np.linalg.det(a)"
      ]
    },
    {
      "cell_type": "code",
      "execution_count": null,
      "metadata": {
        "id": "c2gbeSFzl5J1",
        "outputId": "d5838e65-737a-4102-9cca-2c4d416b04d9"
      },
      "outputs": [
        {
          "data": {
            "text/plain": [
              "array([[  3.15251974e+15,  -6.30503948e+15,   3.15251974e+15],\n",
              "       [ -6.30503948e+15,   1.26100790e+16,  -6.30503948e+15],\n",
              "       [  3.15251974e+15,  -6.30503948e+15,   3.15251974e+15]])"
            ]
          },
          "execution_count": 149,
          "metadata": {},
          "output_type": "execute_result"
        }
      ],
      "source": [
        "np.linalg.inv(a)"
      ]
    },
    {
      "cell_type": "code",
      "execution_count": null,
      "metadata": {
        "id": "btvzJhXyl5J1",
        "outputId": "719c47f4-e56b-49af-b835-599e4c6c8e36"
      },
      "outputs": [
        {
          "data": {
            "text/plain": [
              "(array([  1.61168440e+01,  -1.11684397e+00,  -9.75918483e-16]),\n",
              " array([[-0.23197069, -0.78583024,  0.40824829],\n",
              "        [-0.52532209, -0.08675134, -0.81649658],\n",
              "        [-0.8186735 ,  0.61232756,  0.40824829]]))"
            ]
          },
          "execution_count": 156,
          "metadata": {},
          "output_type": "execute_result"
        }
      ],
      "source": [
        "np.linalg.eig(a)"
      ]
    },
    {
      "cell_type": "code",
      "execution_count": null,
      "metadata": {
        "id": "j9sEwjivl5J1",
        "outputId": "d4eaf2f2-bd8c-409c-d11a-16c62c4310e6"
      },
      "outputs": [
        {
          "data": {
            "text/plain": [
              "array([[1, 2, 3],\n",
              "       [4, 5, 6],\n",
              "       [7, 8, 9]])"
            ]
          },
          "execution_count": 157,
          "metadata": {},
          "output_type": "execute_result"
        }
      ],
      "source": [
        "a"
      ]
    },
    {
      "cell_type": "code",
      "execution_count": null,
      "metadata": {
        "id": "1wgGUqhcl5J1"
      },
      "outputs": [],
      "source": [
        "b = a.T"
      ]
    },
    {
      "cell_type": "code",
      "execution_count": null,
      "metadata": {
        "id": "ngu09aRVl5J1",
        "outputId": "ef381f4b-fd71-4d43-d807-007be06abe6f"
      },
      "outputs": [
        {
          "data": {
            "text/plain": [
              "array([[1, 4, 7],\n",
              "       [2, 5, 8],\n",
              "       [3, 6, 9]])"
            ]
          },
          "execution_count": 159,
          "metadata": {},
          "output_type": "execute_result"
        }
      ],
      "source": [
        "b"
      ]
    },
    {
      "cell_type": "code",
      "execution_count": null,
      "metadata": {
        "id": "d28xMm7Xl5J2",
        "outputId": "026b105e-7226-428c-86ed-68258e872717"
      },
      "outputs": [
        {
          "data": {
            "text/plain": [
              "array([[ 14,  32,  50],\n",
              "       [ 32,  77, 122],\n",
              "       [ 50, 122, 194]])"
            ]
          },
          "execution_count": 160,
          "metadata": {},
          "output_type": "execute_result"
        }
      ],
      "source": [
        "np.dot(a,b)\n"
      ]
    },
    {
      "cell_type": "code",
      "execution_count": null,
      "metadata": {
        "id": "cDRg4vpyl5J2"
      },
      "outputs": [],
      "source": [
        "a = np.array([1,1,0], dtype = bool)\n",
        "b = np.array([1,0,1], dtype = bool)\n"
      ]
    },
    {
      "cell_type": "code",
      "execution_count": null,
      "metadata": {
        "id": "CaeQIfCcl5J2",
        "outputId": "ef2ac79e-c43f-4076-e13f-5782148f8f64"
      },
      "outputs": [
        {
          "data": {
            "text/plain": [
              "array([ True,  True,  True], dtype=bool)"
            ]
          },
          "execution_count": 176,
          "metadata": {},
          "output_type": "execute_result"
        }
      ],
      "source": [
        "np.logical_or(a,b)"
      ]
    },
    {
      "cell_type": "code",
      "execution_count": null,
      "metadata": {
        "id": "QVmm2cFEl5J3",
        "outputId": "45829ee5-9936-43a3-9319-2415e28ab917"
      },
      "outputs": [
        {
          "data": {
            "text/plain": [
              "array([ True, False, False], dtype=bool)"
            ]
          },
          "execution_count": 188,
          "metadata": {},
          "output_type": "execute_result"
        }
      ],
      "source": [
        "np.logical_and(a,b)"
      ]
    },
    {
      "cell_type": "code",
      "execution_count": null,
      "metadata": {
        "id": "oZPi7BOXl5J3",
        "outputId": "b7b9d700-cd23-40e2-ccfd-0111277f577e"
      },
      "outputs": [
        {
          "data": {
            "text/plain": [
              "True"
            ]
          },
          "execution_count": 189,
          "metadata": {},
          "output_type": "execute_result"
        }
      ],
      "source": [
        "np.all(a == a)"
      ]
    },
    {
      "cell_type": "code",
      "execution_count": null,
      "metadata": {
        "id": "5aGMpZHQl5J3"
      },
      "outputs": [],
      "source": [
        "a = np.array([[1,2],[3,4]])"
      ]
    },
    {
      "cell_type": "code",
      "execution_count": null,
      "metadata": {
        "id": "RSrXIKRzl5J3",
        "outputId": "be495992-0108-4c5a-c28f-36658b0cffb6"
      },
      "outputs": [
        {
          "data": {
            "text/plain": [
              "array([[1, 2],\n",
              "       [3, 4]])"
            ]
          },
          "execution_count": 180,
          "metadata": {},
          "output_type": "execute_result"
        }
      ],
      "source": [
        "a\n"
      ]
    },
    {
      "cell_type": "code",
      "execution_count": null,
      "metadata": {
        "id": "ZvI_7Ccal5J3",
        "outputId": "52140c17-62f6-4b99-ad76-f4bc8525e520"
      },
      "outputs": [
        {
          "data": {
            "text/plain": [
              "10"
            ]
          },
          "execution_count": 181,
          "metadata": {},
          "output_type": "execute_result"
        }
      ],
      "source": [
        "a.sum()"
      ]
    },
    {
      "cell_type": "code",
      "execution_count": null,
      "metadata": {
        "id": "s7BmP8Vzl5J4",
        "outputId": "8bc4998a-5dc1-4f6b-a6c3-3efe4191a730"
      },
      "outputs": [
        {
          "data": {
            "text/plain": [
              "array([4, 6])"
            ]
          },
          "execution_count": 182,
          "metadata": {},
          "output_type": "execute_result"
        }
      ],
      "source": [
        "a.sum(axis=0)"
      ]
    },
    {
      "cell_type": "code",
      "execution_count": null,
      "metadata": {
        "id": "g-AV95Ffl5J4",
        "outputId": "168b0536-33f3-4131-d66b-6a1086032bf3"
      },
      "outputs": [
        {
          "data": {
            "text/plain": [
              "array([3, 7])"
            ]
          },
          "execution_count": 183,
          "metadata": {},
          "output_type": "execute_result"
        }
      ],
      "source": [
        "a.sum(axis=1)"
      ]
    },
    {
      "cell_type": "code",
      "execution_count": null,
      "metadata": {
        "id": "mhpSyUR2l5J4",
        "outputId": "d9bcf460-11e9-4124-ab91-65fbecfcfad3"
      },
      "outputs": [
        {
          "data": {
            "text/plain": [
              "4"
            ]
          },
          "execution_count": 185,
          "metadata": {},
          "output_type": "execute_result"
        }
      ],
      "source": [
        "a.max()"
      ]
    },
    {
      "cell_type": "code",
      "execution_count": null,
      "metadata": {
        "id": "2g4LI-_Wl5J4",
        "outputId": "1c2fe01f-70f8-49ff-a496-a4bc0b4d5b26"
      },
      "outputs": [
        {
          "data": {
            "text/plain": [
              "3"
            ]
          },
          "execution_count": 186,
          "metadata": {},
          "output_type": "execute_result"
        }
      ],
      "source": [
        "a.argmax()"
      ]
    },
    {
      "cell_type": "code",
      "source": [
        "a=np.array([5,3,9,4])"
      ],
      "metadata": {
        "id": "oPQVOBC05Erx"
      },
      "execution_count": null,
      "outputs": []
    },
    {
      "cell_type": "code",
      "execution_count": null,
      "metadata": {
        "colab": {
          "base_uri": "https://localhost:8080/"
        },
        "id": "7RDP_DhIl5J5",
        "outputId": "e9c9ffaf-19e1-4d1e-fcb1-93f59eb41c61"
      },
      "outputs": [
        {
          "output_type": "execute_result",
          "data": {
            "text/plain": [
              "2"
            ]
          },
          "metadata": {},
          "execution_count": 31
        }
      ],
      "source": [
        "a.argmax()"
      ]
    },
    {
      "cell_type": "code",
      "execution_count": null,
      "metadata": {
        "id": "dyvlU6AGl5J5",
        "outputId": "164d6836-6991-482c-8de3-b821239c37bb"
      },
      "outputs": [
        {
          "data": {
            "text/plain": [
              "(9,)"
            ]
          },
          "execution_count": 197,
          "metadata": {},
          "output_type": "execute_result"
        }
      ],
      "source": [
        "a.shape"
      ]
    },
    {
      "cell_type": "code",
      "execution_count": null,
      "metadata": {
        "id": "9YGB63Val5J5",
        "outputId": "438e5cb6-0178-4882-f902-650e6aa02729"
      },
      "outputs": [
        {
          "data": {
            "text/plain": [
              "(9, 1)"
            ]
          },
          "execution_count": 200,
          "metadata": {},
          "output_type": "execute_result"
        }
      ],
      "source": [
        "a[:,np.newaxis].shape # adds a new axis -> 2D"
      ]
    },
    {
      "cell_type": "code",
      "execution_count": null,
      "metadata": {
        "id": "ZG3nhpIzl5J5",
        "outputId": "cbb0a994-9339-49da-b7d0-bd1c80714003"
      },
      "outputs": [
        {
          "data": {
            "text/plain": [
              "array([1, 2, 3, 4, 5, 6, 7, 8, 9])"
            ]
          },
          "execution_count": 201,
          "metadata": {},
          "output_type": "execute_result"
        }
      ],
      "source": [
        "np.sort(a)"
      ]
    },
    {
      "cell_type": "code",
      "execution_count": null,
      "metadata": {
        "id": "Z53V06Ktl5J5",
        "outputId": "b731a78d-4d0a-423d-d56c-82ba3eaade6a"
      },
      "outputs": [
        {
          "data": {
            "text/plain": [
              "array([0, 1, 2, 3, 4, 5, 6, 7, 8])"
            ]
          },
          "execution_count": 202,
          "metadata": {},
          "output_type": "execute_result"
        }
      ],
      "source": [
        "np.argsort(a)"
      ]
    },
    {
      "cell_type": "code",
      "execution_count": null,
      "metadata": {
        "id": "KwgDJKcLl5J6"
      },
      "outputs": [],
      "source": []
    }
  ],
  "metadata": {
    "kernelspec": {
      "display_name": "Python [conda env:geekshub]",
      "language": "python",
      "name": "conda-env-geekshub-py"
    },
    "language_info": {
      "codemirror_mode": {
        "name": "ipython",
        "version": 3
      },
      "file_extension": ".py",
      "mimetype": "text/x-python",
      "name": "python",
      "nbconvert_exporter": "python",
      "pygments_lexer": "ipython3",
      "version": "3.5.4"
    },
    "colab": {
      "provenance": [],
      "toc_visible": true,
      "include_colab_link": true
    }
  },
  "nbformat": 4,
  "nbformat_minor": 0
}